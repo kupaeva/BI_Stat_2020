{
 "cells": [
  {
   "cell_type": "code",
   "execution_count": 94,
   "id": "brown-marshall",
   "metadata": {},
   "outputs": [],
   "source": [
    "import pandas as pd\n",
    "import matplotlib.pyplot as plt\n",
    "import seaborn as sns\n",
    "import numpy as np\n",
    "import statsmodels.api as sm\n",
    "from sklearn.model_selection import train_test_split\n",
    "from sklearn.linear_model import LogisticRegression\n",
    "import sklearn.metrics as metrics\n",
    "from sklearn.metrics import roc_curve\n",
    "from sklearn import preprocessing"
   ]
  },
  {
   "cell_type": "markdown",
   "id": "interstate-avatar",
   "metadata": {},
   "source": [
    "Загрузим данные:"
   ]
  },
  {
   "cell_type": "code",
   "execution_count": 3,
   "id": "healthy-literature",
   "metadata": {},
   "outputs": [],
   "source": [
    "df = pd.read_csv('D:/YandexDisk/IB/ML/regression/binary.csv')"
   ]
  },
  {
   "cell_type": "code",
   "execution_count": 5,
   "id": "stunning-arlington",
   "metadata": {},
   "outputs": [
    {
     "data": {
      "text/plain": [
       "<bound method NDFrame.head of      admit  gre   gpa  rank\n",
       "0        0  380  3.61     3\n",
       "1        1  660  3.67     3\n",
       "2        1  800  4.00     1\n",
       "3        1  640  3.19     4\n",
       "4        0  520  2.93     4\n",
       "..     ...  ...   ...   ...\n",
       "395      0  620  4.00     2\n",
       "396      0  560  3.04     3\n",
       "397      0  460  2.63     2\n",
       "398      0  700  3.65     2\n",
       "399      0  600  3.89     3\n",
       "\n",
       "[400 rows x 4 columns]>"
      ]
     },
     "execution_count": 5,
     "metadata": {},
     "output_type": "execute_result"
    }
   ],
   "source": [
    "df.head"
   ]
  },
  {
   "cell_type": "code",
   "execution_count": 112,
   "id": "announced-animation",
   "metadata": {},
   "outputs": [
    {
     "data": {
      "text/html": [
       "<div>\n",
       "<style scoped>\n",
       "    .dataframe tbody tr th:only-of-type {\n",
       "        vertical-align: middle;\n",
       "    }\n",
       "\n",
       "    .dataframe tbody tr th {\n",
       "        vertical-align: top;\n",
       "    }\n",
       "\n",
       "    .dataframe thead th {\n",
       "        text-align: right;\n",
       "    }\n",
       "</style>\n",
       "<table border=\"1\" class=\"dataframe\">\n",
       "  <thead>\n",
       "    <tr style=\"text-align: right;\">\n",
       "      <th></th>\n",
       "      <th>admit</th>\n",
       "      <th>gre</th>\n",
       "      <th>gpa</th>\n",
       "    </tr>\n",
       "  </thead>\n",
       "  <tbody>\n",
       "    <tr>\n",
       "      <th>count</th>\n",
       "      <td>400.000000</td>\n",
       "      <td>400.000000</td>\n",
       "      <td>400.000000</td>\n",
       "    </tr>\n",
       "    <tr>\n",
       "      <th>mean</th>\n",
       "      <td>0.317500</td>\n",
       "      <td>0.049064</td>\n",
       "      <td>0.049689</td>\n",
       "    </tr>\n",
       "    <tr>\n",
       "      <th>std</th>\n",
       "      <td>0.466087</td>\n",
       "      <td>0.009644</td>\n",
       "      <td>0.005578</td>\n",
       "    </tr>\n",
       "    <tr>\n",
       "      <th>min</th>\n",
       "      <td>0.000000</td>\n",
       "      <td>0.018366</td>\n",
       "      <td>0.033127</td>\n",
       "    </tr>\n",
       "    <tr>\n",
       "      <th>25%</th>\n",
       "      <td>0.000000</td>\n",
       "      <td>0.043412</td>\n",
       "      <td>0.045879</td>\n",
       "    </tr>\n",
       "    <tr>\n",
       "      <th>50%</th>\n",
       "      <td>0.000000</td>\n",
       "      <td>0.048421</td>\n",
       "      <td>0.049763</td>\n",
       "    </tr>\n",
       "    <tr>\n",
       "      <th>75%</th>\n",
       "      <td>1.000000</td>\n",
       "      <td>0.055099</td>\n",
       "      <td>0.053794</td>\n",
       "    </tr>\n",
       "    <tr>\n",
       "      <th>max</th>\n",
       "      <td>1.000000</td>\n",
       "      <td>0.066787</td>\n",
       "      <td>0.058631</td>\n",
       "    </tr>\n",
       "  </tbody>\n",
       "</table>\n",
       "</div>"
      ],
      "text/plain": [
       "            admit         gre         gpa\n",
       "count  400.000000  400.000000  400.000000\n",
       "mean     0.317500    0.049064    0.049689\n",
       "std      0.466087    0.009644    0.005578\n",
       "min      0.000000    0.018366    0.033127\n",
       "25%      0.000000    0.043412    0.045879\n",
       "50%      0.000000    0.048421    0.049763\n",
       "75%      1.000000    0.055099    0.053794\n",
       "max      1.000000    0.066787    0.058631"
      ]
     },
     "execution_count": 112,
     "metadata": {},
     "output_type": "execute_result"
    }
   ],
   "source": [
    "df.describe()"
   ]
  },
  {
   "cell_type": "code",
   "execution_count": 74,
   "id": "quality-might",
   "metadata": {},
   "outputs": [
    {
     "data": {
      "text/plain": [
       "admit      int64\n",
       "gre        int64\n",
       "gpa      float64\n",
       "rank       int64\n",
       "dtype: object"
      ]
     },
     "execution_count": 74,
     "metadata": {},
     "output_type": "execute_result"
    }
   ],
   "source": [
    "df.dtypes"
   ]
  },
  {
   "cell_type": "markdown",
   "id": "annual-jimmy",
   "metadata": {},
   "source": [
    "Познакомимся с данными: у нас 4 переменные, 400 наблюдений. admit принимает значения 0 и 1, значение 1 имеет 31% от всех наблюдений. gre принимает значения от 220 до 800, среднее 587, стандартное отклонение 115. gpa принимает значения от 2.26 до 4, среднее 3.39, стандартное отклонение 0.38, rank - категориальная переменная, принимает значения от 1 до 4. "
   ]
  },
  {
   "cell_type": "code",
   "execution_count": 75,
   "id": "modular-cinema",
   "metadata": {},
   "outputs": [],
   "source": [
    "df['rank'] = df['rank'].astype('category')"
   ]
  },
  {
   "cell_type": "code",
   "execution_count": 7,
   "id": "extra-joining",
   "metadata": {},
   "outputs": [
    {
     "data": {
      "text/plain": [
       "0      0\n",
       "1      1\n",
       "2      1\n",
       "3      1\n",
       "4      0\n",
       "      ..\n",
       "395    0\n",
       "396    0\n",
       "397    0\n",
       "398    0\n",
       "399    0\n",
       "Name: admit, Length: 400, dtype: int64"
      ]
     },
     "execution_count": 7,
     "metadata": {},
     "output_type": "execute_result"
    }
   ],
   "source": [
    "df['admit']"
   ]
  },
  {
   "cell_type": "markdown",
   "id": "happy-hanging",
   "metadata": {},
   "source": [
    "Соответственно, переменную rank переводим в фактор, а остальные нормализуем. "
   ]
  },
  {
   "cell_type": "code",
   "execution_count": 109,
   "id": "mental-miller",
   "metadata": {},
   "outputs": [],
   "source": [
    "df.gre = preprocessing.normalize([df.gre])[0]"
   ]
  },
  {
   "cell_type": "code",
   "execution_count": 110,
   "id": "grand-gilbert",
   "metadata": {},
   "outputs": [],
   "source": [
    "df.gpa = preprocessing.normalize([df.gpa])[0]"
   ]
  },
  {
   "cell_type": "markdown",
   "id": "hearing-profit",
   "metadata": {},
   "source": [
    "Удостоверяемся, что нет пропущенных значений:"
   ]
  },
  {
   "cell_type": "code",
   "execution_count": 111,
   "id": "furnished-slovenia",
   "metadata": {},
   "outputs": [
    {
     "data": {
      "text/plain": [
       "admit    0\n",
       "gre      0\n",
       "gpa      0\n",
       "rank     0\n",
       "dtype: int64"
      ]
     },
     "execution_count": 111,
     "metadata": {},
     "output_type": "execute_result"
    }
   ],
   "source": [
    "df.isna().sum()"
   ]
  },
  {
   "cell_type": "markdown",
   "id": "criminal-thread",
   "metadata": {},
   "source": [
    "Посмотрим распределение значений по уровням переменной admit:"
   ]
  },
  {
   "cell_type": "code",
   "execution_count": 113,
   "id": "individual-opinion",
   "metadata": {},
   "outputs": [
    {
     "data": {
      "text/html": [
       "<div>\n",
       "<style scoped>\n",
       "    .dataframe tbody tr th:only-of-type {\n",
       "        vertical-align: middle;\n",
       "    }\n",
       "\n",
       "    .dataframe tbody tr th {\n",
       "        vertical-align: top;\n",
       "    }\n",
       "\n",
       "    .dataframe thead th {\n",
       "        text-align: right;\n",
       "    }\n",
       "</style>\n",
       "<table border=\"1\" class=\"dataframe\">\n",
       "  <thead>\n",
       "    <tr style=\"text-align: right;\">\n",
       "      <th></th>\n",
       "      <th>gre</th>\n",
       "      <th>gpa</th>\n",
       "    </tr>\n",
       "    <tr>\n",
       "      <th>admit</th>\n",
       "      <th></th>\n",
       "      <th></th>\n",
       "    </tr>\n",
       "  </thead>\n",
       "  <tbody>\n",
       "    <tr>\n",
       "      <th>0</th>\n",
       "      <td>0.047852</td>\n",
       "      <td>0.049011</td>\n",
       "    </tr>\n",
       "    <tr>\n",
       "      <th>1</th>\n",
       "      <td>0.051668</td>\n",
       "      <td>0.051144</td>\n",
       "    </tr>\n",
       "  </tbody>\n",
       "</table>\n",
       "</div>"
      ],
      "text/plain": [
       "            gre       gpa\n",
       "admit                    \n",
       "0      0.047852  0.049011\n",
       "1      0.051668  0.051144"
      ]
     },
     "execution_count": 113,
     "metadata": {},
     "output_type": "execute_result"
    }
   ],
   "source": [
    "df.groupby(['admit']).mean()"
   ]
  },
  {
   "cell_type": "code",
   "execution_count": 114,
   "id": "searching-world",
   "metadata": {},
   "outputs": [
    {
     "data": {
      "text/html": [
       "<div>\n",
       "<style scoped>\n",
       "    .dataframe tbody tr th:only-of-type {\n",
       "        vertical-align: middle;\n",
       "    }\n",
       "\n",
       "    .dataframe tbody tr th {\n",
       "        vertical-align: top;\n",
       "    }\n",
       "\n",
       "    .dataframe thead th {\n",
       "        text-align: right;\n",
       "    }\n",
       "</style>\n",
       "<table border=\"1\" class=\"dataframe\">\n",
       "  <thead>\n",
       "    <tr style=\"text-align: right;\">\n",
       "      <th></th>\n",
       "      <th>gre</th>\n",
       "      <th>gpa</th>\n",
       "    </tr>\n",
       "    <tr>\n",
       "      <th>admit</th>\n",
       "      <th></th>\n",
       "      <th></th>\n",
       "    </tr>\n",
       "  </thead>\n",
       "  <tbody>\n",
       "    <tr>\n",
       "      <th>0</th>\n",
       "      <td>0.00967</td>\n",
       "      <td>0.005528</td>\n",
       "    </tr>\n",
       "    <tr>\n",
       "      <th>1</th>\n",
       "      <td>0.00909</td>\n",
       "      <td>0.005426</td>\n",
       "    </tr>\n",
       "  </tbody>\n",
       "</table>\n",
       "</div>"
      ],
      "text/plain": [
       "           gre       gpa\n",
       "admit                   \n",
       "0      0.00967  0.005528\n",
       "1      0.00909  0.005426"
      ]
     },
     "execution_count": 114,
     "metadata": {},
     "output_type": "execute_result"
    }
   ],
   "source": [
    "df.groupby(['admit']).std()"
   ]
  },
  {
   "cell_type": "markdown",
   "id": "rocky-advice",
   "metadata": {},
   "source": [
    "Как мы видим, переменные расходятся по среднему значению, но обладают приблизительно одинаковым уровнем страндартного отклонения. Группы приблизительно однородные. "
   ]
  },
  {
   "cell_type": "markdown",
   "id": "funded-somewhere",
   "metadata": {},
   "source": [
    "Оценим зависимость между переменными: "
   ]
  },
  {
   "cell_type": "code",
   "execution_count": 115,
   "id": "advised-stephen",
   "metadata": {},
   "outputs": [
    {
     "data": {
      "text/plain": [
       "<seaborn.axisgrid.PairGrid at 0x26ccd862668>"
      ]
     },
     "execution_count": 115,
     "metadata": {},
     "output_type": "execute_result"
    },
    {
     "data": {
      "image/png": "[encoded data removed]",
      "text/plain": [
       "<Figure size 402.375x360 with 6 Axes>"
      ]
     },
     "metadata": {
      "needs_background": "light"
     },
     "output_type": "display_data"
    }
   ],
   "source": [
    "sns.pairplot(df, hue='admit')"
   ]
  },
  {
   "cell_type": "markdown",
   "id": "suitable-trouble",
   "metadata": {},
   "source": [
    "Как мы видим, распределение внутри обеих переменных соотносится с тем, поступил абитуриент или нет. Чем выше оценка, тем больше вероятность поступить. При оценке корреляции между разными оценками четких кластеров \"поступил/не поступил\" не наблюдается. "
   ]
  },
  {
   "cell_type": "markdown",
   "id": "varied-feelings",
   "metadata": {},
   "source": [
    "Оценим визуально распределение отдельных переменных:"
   ]
  },
  {
   "cell_type": "code",
   "execution_count": 12,
   "id": "coastal-palace",
   "metadata": {},
   "outputs": [],
   "source": [
    "gpa_distr = df['gpa'].value_counts(sort = True)\n"
   ]
  },
  {
   "cell_type": "code",
   "execution_count": 81,
   "id": "mexican-harrison",
   "metadata": {},
   "outputs": [
    {
     "data": {
      "text/plain": [
       "<AxesSubplot:>"
      ]
     },
     "execution_count": 81,
     "metadata": {},
     "output_type": "execute_result"
    },
    {
     "data": {
      "image/png": "[encoded data removed]",
      "text/plain": [
       "<Figure size 432x288 with 1 Axes>"
      ]
     },
     "metadata": {
      "needs_background": "light"
     },
     "output_type": "display_data"
    }
   ],
   "source": [
    "gpa_distr.plot(kind='box', legend=0)"
   ]
  },
  {
   "cell_type": "code",
   "execution_count": 83,
   "id": "mechanical-morocco",
   "metadata": {},
   "outputs": [
    {
     "data": {
      "text/plain": [
       "<AxesSubplot:>"
      ]
     },
     "execution_count": 83,
     "metadata": {},
     "output_type": "execute_result"
    },
    {
     "data": {
      "image/png": "[encoded data removed]",
      "text/plain": [
       "<Figure size 432x288 with 1 Axes>"
      ]
     },
     "metadata": {
      "needs_background": "light"
     },
     "output_type": "display_data"
    }
   ],
   "source": [
    "gre_distr = df['gre'].value_counts(sort = True)\n",
    "gre_distr.plot(kind='box', legend=0)"
   ]
  },
  {
   "cell_type": "code",
   "execution_count": 14,
   "id": "finnish-christian",
   "metadata": {},
   "outputs": [
    {
     "name": "stderr",
     "output_type": "stream",
     "text": [
      "c:\\users\\dkupa\\appdata\\local\\programs\\python\\python37\\lib\\site-packages\\seaborn\\_decorators.py:43: FutureWarning: Pass the following variable as a keyword arg: x. From version 0.12, the only valid positional argument will be `data`, and passing other arguments without an explicit keyword will result in an error or misinterpretation.\n",
      "  FutureWarning\n"
     ]
    },
    {
     "data": {
      "text/plain": [
       "<AxesSubplot:xlabel='admit', ylabel='count'>"
      ]
     },
     "execution_count": 14,
     "metadata": {},
     "output_type": "execute_result"
    },
    {
     "data": {
      "image/png": "[encoded data removed]",
      "text/plain": [
       "<Figure size 432x288 with 1 Axes>"
      ]
     },
     "metadata": {
      "needs_background": "light"
     },
     "output_type": "display_data"
    }
   ],
   "source": [
    "sns.countplot(df.admit)"
   ]
  },
  {
   "cell_type": "markdown",
   "id": "tribal-running",
   "metadata": {},
   "source": [
    "Разделим переменные на обучающую и тестовую выборку. X - обучающий датафрейм, y - значения отклика. "
   ]
  },
  {
   "cell_type": "code",
   "execution_count": 124,
   "id": "fifth-enlargement",
   "metadata": {},
   "outputs": [],
   "source": [
    "y = df.admit"
   ]
  },
  {
   "cell_type": "code",
   "execution_count": 125,
   "id": "sound-cincinnati",
   "metadata": {},
   "outputs": [],
   "source": [
    "X = df.drop(['admit'], axis=1)"
   ]
  },
  {
   "cell_type": "code",
   "execution_count": null,
   "id": "freelance-fabric",
   "metadata": {},
   "outputs": [],
   "source": [
    "X_train, X_test, y_train, y_test = train_test_split(X, y, test_size=0.33, stratify=y, shuffle=True, random_state=42)"
   ]
  },
  {
   "cell_type": "markdown",
   "id": "former-concentration",
   "metadata": {},
   "source": [
    "Проверим условия применимости модели. Мы ожидаем нормальное распределение логарифма шансов от переменных, и мульмиколлениарности. Для этого построим  IV(s)-кривые."
   ]
  },
  {
   "cell_type": "code",
   "execution_count": 131,
   "id": "automatic-registrar",
   "metadata": {},
   "outputs": [
    {
     "data": {
      "image/png": "[encoded data removed]",
      "text/plain": [
       "<Figure size 432x288 with 1 Axes>"
      ]
     },
     "metadata": {
      "needs_background": "light"
     },
     "output_type": "display_data"
    }
   ],
   "source": [
    "gre = sns.regplot(x= 'gre', y= 'admit', data= df, logistic= True).set_title(\"GRE Log Odds Linear Plot\")"
   ]
  },
  {
   "cell_type": "code",
   "execution_count": 132,
   "id": "another-communist",
   "metadata": {},
   "outputs": [
    {
     "data": {
      "image/png": "[encoded data removed]",
      "text/plain": [
       "<Figure size 432x288 with 1 Axes>"
      ]
     },
     "metadata": {
      "needs_background": "light"
     },
     "output_type": "display_data"
    }
   ],
   "source": [
    "gpa = sns.regplot(x= 'gpa', y= 'admit', data= df, logistic= True).set_title(\"GPA Log Odds Linear Plot\")"
   ]
  },
  {
   "cell_type": "code",
   "execution_count": null,
   "id": "defined-ownership",
   "metadata": {},
   "outputs": [],
   "source": [
    "Мы ожидали, что они будут иметь S-образную форму. Мы этого не видим отчетливо, однако они не имеют U-образной формы, что уже можно счесть добрым знаком. Сочтем, что условие выполняется. "
   ]
  },
  {
   "cell_type": "code",
   "execution_count": 133,
   "id": "pretty-argentina",
   "metadata": {
    "scrolled": true
   },
   "outputs": [
    {
     "data": {
      "text/html": [
       "<div>\n",
       "<style scoped>\n",
       "    .dataframe tbody tr th:only-of-type {\n",
       "        vertical-align: middle;\n",
       "    }\n",
       "\n",
       "    .dataframe tbody tr th {\n",
       "        vertical-align: top;\n",
       "    }\n",
       "\n",
       "    .dataframe thead th {\n",
       "        text-align: right;\n",
       "    }\n",
       "</style>\n",
       "<table border=\"1\" class=\"dataframe\">\n",
       "  <thead>\n",
       "    <tr style=\"text-align: right;\">\n",
       "      <th></th>\n",
       "      <th>admit</th>\n",
       "      <th>gre</th>\n",
       "      <th>gpa</th>\n",
       "    </tr>\n",
       "  </thead>\n",
       "  <tbody>\n",
       "    <tr>\n",
       "      <th>admit</th>\n",
       "      <td>1.000000</td>\n",
       "      <td>0.184434</td>\n",
       "      <td>0.178212</td>\n",
       "    </tr>\n",
       "    <tr>\n",
       "      <th>gre</th>\n",
       "      <td>0.184434</td>\n",
       "      <td>1.000000</td>\n",
       "      <td>0.384266</td>\n",
       "    </tr>\n",
       "    <tr>\n",
       "      <th>gpa</th>\n",
       "      <td>0.178212</td>\n",
       "      <td>0.384266</td>\n",
       "      <td>1.000000</td>\n",
       "    </tr>\n",
       "  </tbody>\n",
       "</table>\n",
       "</div>"
      ],
      "text/plain": [
       "          admit       gre       gpa\n",
       "admit  1.000000  0.184434  0.178212\n",
       "gre    0.184434  1.000000  0.384266\n",
       "gpa    0.178212  0.384266  1.000000"
      ]
     },
     "execution_count": 133,
     "metadata": {},
     "output_type": "execute_result"
    }
   ],
   "source": [
    "df.corr()"
   ]
  },
  {
   "cell_type": "code",
   "execution_count": null,
   "id": "earned-rendering",
   "metadata": {},
   "outputs": [],
   "source": [
    "Четких корреляций также не обнаружено, так что это условие тоже считаем выполненым. "
   ]
  },
  {
   "cell_type": "markdown",
   "id": "nasty-grade",
   "metadata": {},
   "source": [
    "Обучим модель на полном датасете, со всеми переменными: "
   ]
  },
  {
   "cell_type": "code",
   "execution_count": 127,
   "id": "swiss-florida",
   "metadata": {},
   "outputs": [
    {
     "data": {
      "text/plain": [
       "LogisticRegression(random_state=0)"
      ]
     },
     "execution_count": 127,
     "metadata": {},
     "output_type": "execute_result"
    }
   ],
   "source": [
    "log_regr_full = LogisticRegression(random_state=0)\n",
    "log_regr_full.fit(X_train, y_train)\n"
   ]
  },
  {
   "cell_type": "code",
   "execution_count": 128,
   "id": "limited-auction",
   "metadata": {
    "scrolled": true
   },
   "outputs": [
    {
     "name": "stdout",
     "output_type": "stream",
     "text": [
      "              precision    recall  f1-score   support\n",
      "\n",
      "           0       0.68      1.00      0.81        90\n",
      "           1       0.00      0.00      0.00        42\n",
      "\n",
      "    accuracy                           0.68       132\n",
      "   macro avg       0.34      0.50      0.41       132\n",
      "weighted avg       0.46      0.68      0.55       132\n",
      "\n"
     ]
    },
    {
     "name": "stderr",
     "output_type": "stream",
     "text": [
      "c:\\users\\dkupa\\appdata\\local\\programs\\python\\python37\\lib\\site-packages\\sklearn\\metrics\\_classification.py:1245: UndefinedMetricWarning: Precision and F-score are ill-defined and being set to 0.0 in labels with no predicted samples. Use `zero_division` parameter to control this behavior.\n",
      "  _warn_prf(average, modifier, msg_start, len(result))\n",
      "c:\\users\\dkupa\\appdata\\local\\programs\\python\\python37\\lib\\site-packages\\sklearn\\metrics\\_classification.py:1245: UndefinedMetricWarning: Precision and F-score are ill-defined and being set to 0.0 in labels with no predicted samples. Use `zero_division` parameter to control this behavior.\n",
      "  _warn_prf(average, modifier, msg_start, len(result))\n",
      "c:\\users\\dkupa\\appdata\\local\\programs\\python\\python37\\lib\\site-packages\\sklearn\\metrics\\_classification.py:1245: UndefinedMetricWarning: Precision and F-score are ill-defined and being set to 0.0 in labels with no predicted samples. Use `zero_division` parameter to control this behavior.\n",
      "  _warn_prf(average, modifier, msg_start, len(result))\n"
     ]
    }
   ],
   "source": [
    "y_pred_test = log_regr_full.predict(X_test)\n",
    "print(metrics.classification_report(y_test, y_pred_test))"
   ]
  },
  {
   "cell_type": "code",
   "execution_count": 129,
   "id": "victorian-fountain",
   "metadata": {},
   "outputs": [],
   "source": [
    "def get_roc_auc(estimator, y_test):\n",
    "    probs = estimator.predict_proba(X_test)\n",
    "    preds = probs[:,1]\n",
    "    fpr, tpr, threshold = roc_curve(y_test, preds)\n",
    "    roc_auc = auc(fpr, tpr)\n",
    "\n",
    "    plt.title('Receiver Operating Characteristic')\n",
    "    plt.plot(fpr, tpr, 'b', label = 'AUC = %f' % roc_auc)\n",
    "    plt.legend(loc = 'lower right')\n",
    "    plt.plot([0, 1], [0, 1],'r--')\n",
    "    plt.xlim([0, 1])\n",
    "    plt.ylim([0, 1])\n",
    "    plt.ylabel('True Positive Rate')\n",
    "    plt.xlabel('False Positive Rate')\n",
    "    plt.show()\n",
    "    \n",
    "def get_roc_auc_inv(estimator, y_test):\n",
    "    probs = estimator.predict_proba(X_test)\n",
    "    preds = probs[:,0]\n",
    "    fpr, tpr, threshold = roc_curve(y_test, preds)\n",
    "    roc_auc = metrics.auc(fpr, tpr)\n",
    "\n",
    "    plt.title('Receiver Operating Characteristic')\n",
    "    plt.plot(fpr, tpr, 'b', label = 'AUC = %f' % roc_auc)\n",
    "    plt.legend(loc = 'lower right')\n",
    "    plt.plot([0, 1], [0, 1],'r--')\n",
    "    plt.xlim([0, 1])\n",
    "    plt.ylim([0, 1])\n",
    "    plt.ylabel('True Positive Rate')\n",
    "    plt.xlabel('False Positive Rate')\n",
    "    plt.show()"
   ]
  },
  {
   "cell_type": "code",
   "execution_count": 130,
   "id": "appreciated-university",
   "metadata": {
    "scrolled": true
   },
   "outputs": [
    {
     "data": {
      "image/png": "[encoded data removed]",
      "text/plain": [
       "<Figure size 432x288 with 1 Axes>"
      ]
     },
     "metadata": {
      "needs_background": "light"
     },
     "output_type": "display_data"
    }
   ],
   "source": [
    "get_roc_auc_inv(log_regr_full, y_test)"
   ]
  },
  {
   "cell_type": "markdown",
   "id": "fifteen-madagascar",
   "metadata": {},
   "source": [
    "Мы не можем назвать нашу модель хорошей. 1) AUC меньше 0,5 - следовательно, модель представляет инвертированные результаты. 2) Исходя из значения 0.32, даже после инвертирования результав у нас соотношение истиных положительных ответов модели и ложных положительных ответов модели - 68%. Это не лучший возможный результат. Это подтверждается значением precision. \n",
    "Значение recal = 1, то есть модель способна обнаруживать все классы. Оценивать модель по значению accuracy мы не можем, поскольку у нас несбаллансированные классы. "
   ]
  },
  {
   "cell_type": "markdown",
   "id": "impressive-dressing",
   "metadata": {},
   "source": [
    "Попробуем построить модель по отдельным переменным.\n",
    "1) gre:"
   ]
  },
  {
   "cell_type": "code",
   "execution_count": 134,
   "id": "positive-painting",
   "metadata": {},
   "outputs": [
    {
     "name": "stdout",
     "output_type": "stream",
     "text": [
      "              precision    recall  f1-score   support\n",
      "\n",
      "           0       0.68      1.00      0.81        90\n",
      "           1       0.00      0.00      0.00        42\n",
      "\n",
      "    accuracy                           0.68       132\n",
      "   macro avg       0.34      0.50      0.41       132\n",
      "weighted avg       0.46      0.68      0.55       132\n",
      "\n"
     ]
    },
    {
     "name": "stderr",
     "output_type": "stream",
     "text": [
      "c:\\users\\dkupa\\appdata\\local\\programs\\python\\python37\\lib\\site-packages\\sklearn\\metrics\\_classification.py:1245: UndefinedMetricWarning: Precision and F-score are ill-defined and being set to 0.0 in labels with no predicted samples. Use `zero_division` parameter to control this behavior.\n",
      "  _warn_prf(average, modifier, msg_start, len(result))\n",
      "c:\\users\\dkupa\\appdata\\local\\programs\\python\\python37\\lib\\site-packages\\sklearn\\metrics\\_classification.py:1245: UndefinedMetricWarning: Precision and F-score are ill-defined and being set to 0.0 in labels with no predicted samples. Use `zero_division` parameter to control this behavior.\n",
      "  _warn_prf(average, modifier, msg_start, len(result))\n",
      "c:\\users\\dkupa\\appdata\\local\\programs\\python\\python37\\lib\\site-packages\\sklearn\\metrics\\_classification.py:1245: UndefinedMetricWarning: Precision and F-score are ill-defined and being set to 0.0 in labels with no predicted samples. Use `zero_division` parameter to control this behavior.\n",
      "  _warn_prf(average, modifier, msg_start, len(result))\n"
     ]
    }
   ],
   "source": [
    "X_gre = X.drop(['gpa', 'rank'], axis=1)\n",
    "X_train_gre, X_test_gre, y_train, y_test = train_test_split(X_gre, y, test_size=0.33, stratify=y, shuffle=True, random_state=42)\n",
    "log_regr_gre = LogisticRegression(random_state=0)\n",
    "log_regr_gre.fit(X_train_gre, y_train)\n",
    "y_pred_test = log_regr_gre.predict(X_test_gre)\n",
    "print(metrics.classification_report(y_test, y_pred_test))"
   ]
  },
  {
   "cell_type": "code",
   "execution_count": 135,
   "id": "chemical-villa",
   "metadata": {},
   "outputs": [
    {
     "data": {
      "image/png": "[encoded data removed]",
      "text/plain": [
       "<Figure size 432x288 with 1 Axes>"
      ]
     },
     "metadata": {
      "needs_background": "light"
     },
     "output_type": "display_data"
    }
   ],
   "source": [
    "def get_roc_auc(estimator, y_test):\n",
    "    probs = estimator.predict_proba(X_test_gre)\n",
    "    preds = probs[:,1]\n",
    "    fpr, tpr, threshold = roc_curve(y_test, preds)\n",
    "    roc_auc = auc(fpr, tpr)\n",
    "\n",
    "    plt.title('Receiver Operating Characteristic')\n",
    "    plt.plot(fpr, tpr, 'b', label = 'AUC = %f' % roc_auc)\n",
    "    plt.legend(loc = 'lower right')\n",
    "    plt.plot([0, 1], [0, 1],'r--')\n",
    "    plt.xlim([0, 1])\n",
    "    plt.ylim([0, 1])\n",
    "    plt.ylabel('True Positive Rate')\n",
    "    plt.xlabel('False Positive Rate')\n",
    "    plt.show()\n",
    "    \n",
    "def get_roc_auc_inv(estimator, y_test):\n",
    "    probs = estimator.predict_proba(X_test_gre)\n",
    "    preds = probs[:,0]\n",
    "    fpr, tpr, threshold = roc_curve(y_test, preds)\n",
    "    roc_auc = metrics.auc(fpr, tpr)\n",
    "\n",
    "    plt.title('Receiver Operating Characteristic')\n",
    "    plt.plot(fpr, tpr, 'b', label = 'AUC = %f' % roc_auc)\n",
    "    plt.legend(loc = 'lower right')\n",
    "    plt.plot([0, 1], [0, 1],'r--')\n",
    "    plt.xlim([0, 1])\n",
    "    plt.ylim([0, 1])\n",
    "    plt.ylabel('True Positive Rate')\n",
    "    plt.xlabel('False Positive Rate')\n",
    "    plt.show()\n",
    "    \n",
    "get_roc_auc_inv(log_regr_gre, y_test)"
   ]
  },
  {
   "cell_type": "markdown",
   "id": "accurate-bridges",
   "metadata": {},
   "source": [
    "Модель хуже, чем по всем переменным. \n",
    "2) gpa:"
   ]
  },
  {
   "cell_type": "code",
   "execution_count": 136,
   "id": "living-significance",
   "metadata": {},
   "outputs": [
    {
     "name": "stdout",
     "output_type": "stream",
     "text": [
      "              precision    recall  f1-score   support\n",
      "\n",
      "           0       0.68      1.00      0.81        90\n",
      "           1       0.00      0.00      0.00        42\n",
      "\n",
      "    accuracy                           0.68       132\n",
      "   macro avg       0.34      0.50      0.41       132\n",
      "weighted avg       0.46      0.68      0.55       132\n",
      "\n"
     ]
    },
    {
     "name": "stderr",
     "output_type": "stream",
     "text": [
      "c:\\users\\dkupa\\appdata\\local\\programs\\python\\python37\\lib\\site-packages\\sklearn\\metrics\\_classification.py:1245: UndefinedMetricWarning: Precision and F-score are ill-defined and being set to 0.0 in labels with no predicted samples. Use `zero_division` parameter to control this behavior.\n",
      "  _warn_prf(average, modifier, msg_start, len(result))\n",
      "c:\\users\\dkupa\\appdata\\local\\programs\\python\\python37\\lib\\site-packages\\sklearn\\metrics\\_classification.py:1245: UndefinedMetricWarning: Precision and F-score are ill-defined and being set to 0.0 in labels with no predicted samples. Use `zero_division` parameter to control this behavior.\n",
      "  _warn_prf(average, modifier, msg_start, len(result))\n",
      "c:\\users\\dkupa\\appdata\\local\\programs\\python\\python37\\lib\\site-packages\\sklearn\\metrics\\_classification.py:1245: UndefinedMetricWarning: Precision and F-score are ill-defined and being set to 0.0 in labels with no predicted samples. Use `zero_division` parameter to control this behavior.\n",
      "  _warn_prf(average, modifier, msg_start, len(result))\n"
     ]
    }
   ],
   "source": [
    "X_gpa = X.drop(['gre', 'rank'], axis=1)\n",
    "X_train_gpa, X_test_gpa, y_train, y_test = train_test_split(X_gre, y, test_size=0.33, stratify=y, shuffle=True, random_state=42)\n",
    "log_regr_gpa = LogisticRegression(random_state=0)\n",
    "log_regr_gpa.fit(X_train_gpa, y_train)\n",
    "y_pred_test = log_regr_gpa.predict(X_test_gpa)\n",
    "print(metrics.classification_report(y_test, y_pred_test))"
   ]
  },
  {
   "cell_type": "code",
   "execution_count": 137,
   "id": "irish-dynamics",
   "metadata": {},
   "outputs": [
    {
     "data": {
      "image/png": "[encoded data removed]",
      "text/plain": [
       "<Figure size 432x288 with 1 Axes>"
      ]
     },
     "metadata": {
      "needs_background": "light"
     },
     "output_type": "display_data"
    }
   ],
   "source": [
    "def get_roc_auc(estimator, y_test):\n",
    "    probs = estimator.predict_proba(X_test_gpa)\n",
    "    preds = probs[:,1]\n",
    "    fpr, tpr, threshold = roc_curve(y_test, preds)\n",
    "    roc_auc = auc(fpr, tpr)\n",
    "\n",
    "    plt.title('Receiver Operating Characteristic')\n",
    "    plt.plot(fpr, tpr, 'b', label = 'AUC = %f' % roc_auc)\n",
    "    plt.legend(loc = 'lower right')\n",
    "    plt.plot([0, 1], [0, 1],'r--')\n",
    "    plt.xlim([0, 1])\n",
    "    plt.ylim([0, 1])\n",
    "    plt.ylabel('True Positive Rate')\n",
    "    plt.xlabel('False Positive Rate')\n",
    "    plt.show()\n",
    "    \n",
    "def get_roc_auc_inv(estimator, y_test):\n",
    "    probs = estimator.predict_proba(X_test_gpa)\n",
    "    preds = probs[:,0]\n",
    "    fpr, tpr, threshold = roc_curve(y_test, preds)\n",
    "    roc_auc = metrics.auc(fpr, tpr)\n",
    "\n",
    "    plt.title('Receiver Operating Characteristic')\n",
    "    plt.plot(fpr, tpr, 'b', label = 'AUC = %f' % roc_auc)\n",
    "    plt.legend(loc = 'lower right')\n",
    "    plt.plot([0, 1], [0, 1],'r--')\n",
    "    plt.xlim([0, 1])\n",
    "    plt.ylim([0, 1])\n",
    "    plt.ylabel('True Positive Rate')\n",
    "    plt.xlabel('False Positive Rate')\n",
    "    plt.show()\n",
    "    \n",
    "get_roc_auc_inv(log_regr_gre, y_test)"
   ]
  },
  {
   "cell_type": "markdown",
   "id": "considerable-shopper",
   "metadata": {},
   "source": [
    "Аналогично. \n",
    "3) rank:"
   ]
  },
  {
   "cell_type": "code",
   "execution_count": 138,
   "id": "shaped-mouse",
   "metadata": {},
   "outputs": [
    {
     "name": "stdout",
     "output_type": "stream",
     "text": [
      "              precision    recall  f1-score   support\n",
      "\n",
      "           0       0.61      0.50      0.55        90\n",
      "           1       0.22      0.31      0.26        42\n",
      "\n",
      "    accuracy                           0.44       132\n",
      "   macro avg       0.42      0.40      0.40       132\n",
      "weighted avg       0.49      0.44      0.46       132\n",
      "\n"
     ]
    }
   ],
   "source": [
    "X_rank = X.drop(['gre', 'gpa'], axis=1)\n",
    "X_train_rank, X_test_rank, y_train, y_test = train_test_split(X_rank, y, test_size=0.33, stratify=y, shuffle=True, random_state=42)\n",
    "log_regr_rank = LogisticRegression(random_state=0)\n",
    "log_regr_rank.fit(X_train_rank, y_train)\n",
    "y_pred_test = log_regr_gpa.predict(X_test_rank)\n",
    "print(metrics.classification_report(y_test, y_pred_test))"
   ]
  },
  {
   "cell_type": "code",
   "execution_count": 139,
   "id": "eight-yorkshire",
   "metadata": {
    "scrolled": true
   },
   "outputs": [
    {
     "data": {
      "image/png": "[encoded data removed]",
      "text/plain": [
       "<Figure size 432x288 with 1 Axes>"
      ]
     },
     "metadata": {
      "needs_background": "light"
     },
     "output_type": "display_data"
    }
   ],
   "source": [
    "def get_roc_auc(estimator, y_test):\n",
    "    probs = estimator.predict_proba(X_test_rank)\n",
    "    preds = probs[:,1]\n",
    "    fpr, tpr, threshold = roc_curve(y_test, preds)\n",
    "    roc_auc = auc(fpr, tpr)\n",
    "\n",
    "    plt.title('Receiver Operating Characteristic')\n",
    "    plt.plot(fpr, tpr, 'b', label = 'AUC = %f' % roc_auc)\n",
    "    plt.legend(loc = 'lower right')\n",
    "    plt.plot([0, 1], [0, 1],'r--')\n",
    "    plt.xlim([0, 1])\n",
    "    plt.ylim([0, 1])\n",
    "    plt.ylabel('True Positive Rate')\n",
    "    plt.xlabel('False Positive Rate')\n",
    "    plt.show()\n",
    "    \n",
    "def get_roc_auc_inv(estimator, y_test):\n",
    "    probs = estimator.predict_proba(X_test_rank)\n",
    "    preds = probs[:,0]\n",
    "    fpr, tpr, threshold = roc_curve(y_test, preds)\n",
    "    roc_auc = metrics.auc(fpr, tpr)\n",
    "\n",
    "    plt.title('Receiver Operating Characteristic')\n",
    "    plt.plot(fpr, tpr, 'b', label = 'AUC = %f' % roc_auc)\n",
    "    plt.legend(loc = 'lower right')\n",
    "    plt.plot([0, 1], [0, 1],'r--')\n",
    "    plt.xlim([0, 1])\n",
    "    plt.ylim([0, 1])\n",
    "    plt.ylabel('True Positive Rate')\n",
    "    plt.xlabel('False Positive Rate')\n",
    "    plt.show()\n",
    "    \n",
    "get_roc_auc_inv(log_regr_gre, y_test)"
   ]
  },
  {
   "cell_type": "markdown",
   "id": "understanding-profession",
   "metadata": {},
   "source": [
    "Эта модель лучше, чем по другим отдельным переменным, но хуже, чем по всем переменным одновременно. "
   ]
  },
  {
   "cell_type": "markdown",
   "id": "arabic-guinea",
   "metadata": {},
   "source": [
    "Тут бы нужно построить красивые графики распределения верных и неверных ответов, но я не успела. Поэтому тут только не очень интересные графики, как различается распределение по категориям между реальными данными и предсказанными:"
   ]
  },
  {
   "cell_type": "code",
   "execution_count": 153,
   "id": "demonstrated-venue",
   "metadata": {
    "scrolled": true
   },
   "outputs": [
    {
     "name": "stderr",
     "output_type": "stream",
     "text": [
      "c:\\users\\dkupa\\appdata\\local\\programs\\python\\python37\\lib\\site-packages\\seaborn\\_decorators.py:43: FutureWarning: Pass the following variable as a keyword arg: x. From version 0.12, the only valid positional argument will be `data`, and passing other arguments without an explicit keyword will result in an error or misinterpretation.\n",
      "  FutureWarning\n",
      "c:\\users\\dkupa\\appdata\\local\\programs\\python\\python37\\lib\\site-packages\\seaborn\\_decorators.py:43: FutureWarning: Pass the following variable as a keyword arg: x. From version 0.12, the only valid positional argument will be `data`, and passing other arguments without an explicit keyword will result in an error or misinterpretation.\n",
      "  FutureWarning\n"
     ]
    },
    {
     "data": {
      "text/plain": [
       "<AxesSubplot:xlabel='admit', ylabel='count'>"
      ]
     },
     "execution_count": 153,
     "metadata": {},
     "output_type": "execute_result"
    },
    {
     "data": {
      "image/png": "[encoded data removed]",
      "text/plain": [
       "<Figure size 432x288 with 1 Axes>"
      ]
     },
     "metadata": {
      "needs_background": "light"
     },
     "output_type": "display_data"
    }
   ],
   "source": [
    "sns.countplot(y_test)"
   ]
  },
  {
   "cell_type": "code",
   "execution_count": 147,
   "id": "hidden-breeding",
   "metadata": {
    "scrolled": true
   },
   "outputs": [
    {
     "name": "stderr",
     "output_type": "stream",
     "text": [
      "c:\\users\\dkupa\\appdata\\local\\programs\\python\\python37\\lib\\site-packages\\seaborn\\_decorators.py:43: FutureWarning: Pass the following variable as a keyword arg: x. From version 0.12, the only valid positional argument will be `data`, and passing other arguments without an explicit keyword will result in an error or misinterpretation.\n",
      "  FutureWarning\n"
     ]
    },
    {
     "data": {
      "text/plain": [
       "<AxesSubplot:ylabel='count'>"
      ]
     },
     "execution_count": 147,
     "metadata": {},
     "output_type": "execute_result"
    },
    {
     "data": {
      "image/png": "[encoded data removed]",
      "text/plain": [
       "<Figure size 432x288 with 1 Axes>"
      ]
     },
     "metadata": {
      "needs_background": "light"
     },
     "output_type": "display_data"
    }
   ],
   "source": [
    "sns.countplot(y_pred_test)"
   ]
  },
  {
   "cell_type": "markdown",
   "id": "literary-provincial",
   "metadata": {},
   "source": [
    "Как мы видим, в предсказанных больше ложно-положительных результатов. Но в общем это можно было увидеть и по статистике модели. "
   ]
  }
 ],
 "metadata": {
  "kernelspec": {
   "display_name": "Python 3",
   "language": "python",
   "name": "python3"
  },
  "language_info": {
   "codemirror_mode": {
    "name": "ipython",
    "version": 3
   },
   "file_extension": ".py",
   "mimetype": "text/x-python",
   "name": "python",
   "nbconvert_exporter": "python",
   "pygments_lexer": "ipython3",
   "version": "3.7.2"
  }
 },
 "nbformat": 4,
 "nbformat_minor": 5
}
